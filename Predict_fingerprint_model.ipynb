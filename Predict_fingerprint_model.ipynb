{
  "nbformat": 4,
  "nbformat_minor": 0,
  "metadata": {
    "colab": {
      "provenance": [],
      "mount_file_id": "1UvNXu6iG9VYfgS0RXbS5KVUee-I5JOLB",
      "authorship_tag": "ABX9TyOd69CExjYnP7Ir3BoeTOkY",
      "include_colab_link": true
    },
    "kernelspec": {
      "name": "python3",
      "display_name": "Python 3"
    },
    "language_info": {
      "name": "python"
    }
  },
  "cells": [
    {
      "cell_type": "markdown",
      "metadata": {
        "id": "view-in-github",
        "colab_type": "text"
      },
      "source": [
        "<a href=\"https://colab.research.google.com/github/Onehundredpunches/Five-model-in-first-report/blob/main/Predict_fingerprint_model.ipynb\" target=\"_parent\"><img src=\"https://colab.research.google.com/assets/colab-badge.svg\" alt=\"Open In Colab\"/></a>"
      ]
    },
    {
      "cell_type": "code",
      "execution_count": 55,
      "metadata": {
        "id": "5Tk7WSQejkS8"
      },
      "outputs": [],
      "source": [
        "# Import library\n",
        "import pandas as pd\n",
        "import numpy as np\n",
        "from os import listdir\n",
        "from numpy import asanyarray, save\n",
        "from keras.utils import load_img, img_to_array\n",
        "from numpy.core.multiarray import asarray\n",
        "from google.colab import drive\n",
        "from keras.utils import to_categorical\n",
        "from PIL import Image\n",
        "import matplotlib.pyplot as plt\n",
        "from sklearn.model_selection import train_test_split"
      ]
    },
    {
      "cell_type": "code",
      "source": [
        "folder = '/content/drive/MyDrive/AI Report Photo/Fingerprint_/'\n",
        "photos, labels = list(), list()\n",
        "for file in listdir(folder):\n",
        "  output = 0.0\n",
        "  if file.startswith('Doctor'):\n",
        "    output = 1.0\n",
        "  if file.startswith('Worker'):\n",
        "    output = 2.0\n",
        "  if file.startswith('Farmer'):\n",
        "    output = 3.0\n",
        "  if file.startswith('Teacher'):\n",
        "    output = 4.0 \n",
        "  if file.startswith('Baker'):\n",
        "    output = 5.0\n",
        "  if file.startswith('Blacksmith'):\n",
        "    output = 6.0  \n",
        "  if file.startswith('Engineer'):\n",
        "    output = 7.0\n",
        "  if file.startswith('Electrician'):\n",
        "    output = 8.0\n",
        "  if file.startswith('Cashier'):\n",
        "    output = 9.0 \n",
        "  if file.startswith('Clerk'):\n",
        "    output = 10.0\n",
        "  photo = load_img(folder+file, target_size = (50,50))\n",
        "  photo = img_to_array(photo)\n",
        "  photos.append(photo)\n",
        "  labels.append(output)\n",
        "photos = asarray(photos)\n",
        "labels = asarray(labels)\n",
        "print(photos.shape, labels.shape)"
      ],
      "metadata": {
        "colab": {
          "base_uri": "https://localhost:8080/"
        },
        "id": "aKeKaB95j3WY",
        "outputId": "8ac7ef39-c92d-4471-bf01-e6acf47d7b5d"
      },
      "execution_count": 56,
      "outputs": [
        {
          "output_type": "stream",
          "name": "stdout",
          "text": [
            "(1000, 50, 50, 3) (1000,)\n"
          ]
        }
      ]
    },
    {
      "cell_type": "code",
      "source": [
        "# Save data \n",
        "save('/content/drive/MyDrive/Colaboratory/AI REPORT/printfinger/printfinger_photos.npy', photos)\n",
        "save('/content/drive/MyDrive/Colaboratory/AI REPORT/printfinger/printfinger_labels.npy', labels)"
      ],
      "metadata": {
        "id": "k5mMBMRlkdjJ"
      },
      "execution_count": 57,
      "outputs": []
    },
    {
      "cell_type": "code",
      "source": [
        "# Load data\n",
        "photos = np.load('/content/drive/MyDrive/Colaboratory/AI REPORT/printfinger/printfinger_photos.npy')\n",
        "labels = np.load('/content/drive/MyDrive/Colaboratory/AI REPORT/printfinger/printfinger_labels.npy')"
      ],
      "metadata": {
        "id": "iYWp6u6lko8h"
      },
      "execution_count": 58,
      "outputs": []
    },
    {
      "cell_type": "code",
      "source": [
        "X_train, X_test, y_train, y_test = train_test_split(photos, labels, test_size=0.2, random_state=3)"
      ],
      "metadata": {
        "id": "9WEASf3cky70"
      },
      "execution_count": 59,
      "outputs": []
    },
    {
      "cell_type": "code",
      "source": [
        "X_train.shape"
      ],
      "metadata": {
        "colab": {
          "base_uri": "https://localhost:8080/"
        },
        "id": "UYACGq2Tk06f",
        "outputId": "eca28b5b-6b99-4429-f541-4a08dde4628b"
      },
      "execution_count": 60,
      "outputs": [
        {
          "output_type": "execute_result",
          "data": {
            "text/plain": [
              "(800, 50, 50, 3)"
            ]
          },
          "metadata": {},
          "execution_count": 60
        }
      ]
    },
    {
      "cell_type": "code",
      "source": [
        "y_train.shape"
      ],
      "metadata": {
        "colab": {
          "base_uri": "https://localhost:8080/"
        },
        "id": "7uzFLBaPk3WP",
        "outputId": "4111e455-c41a-4f58-eed7-3709d145462c"
      },
      "execution_count": 61,
      "outputs": [
        {
          "output_type": "execute_result",
          "data": {
            "text/plain": [
              "(800,)"
            ]
          },
          "metadata": {},
          "execution_count": 61
        }
      ]
    },
    {
      "cell_type": "code",
      "source": [
        "X_test.shape"
      ],
      "metadata": {
        "colab": {
          "base_uri": "https://localhost:8080/"
        },
        "id": "fagW6heLk4hv",
        "outputId": "23b6acaa-b795-4559-8110-9aefba9557eb"
      },
      "execution_count": 62,
      "outputs": [
        {
          "output_type": "execute_result",
          "data": {
            "text/plain": [
              "(200, 50, 50, 3)"
            ]
          },
          "metadata": {},
          "execution_count": 62
        }
      ]
    },
    {
      "cell_type": "code",
      "source": [
        "y_test.shape"
      ],
      "metadata": {
        "colab": {
          "base_uri": "https://localhost:8080/"
        },
        "id": "0FabWjVBk5r4",
        "outputId": "88d17563-960a-4da6-d86a-5707f55917fe"
      },
      "execution_count": 63,
      "outputs": [
        {
          "output_type": "execute_result",
          "data": {
            "text/plain": [
              "(200,)"
            ]
          },
          "metadata": {},
          "execution_count": 63
        }
      ]
    },
    {
      "cell_type": "code",
      "source": [
        "# Standardized data\n",
        "X_train = X_train.astype('float32')/255\n",
        "y_train = to_categorical(y_train, 11) \n",
        "\n",
        "X_test = X_test.astype('float32')/255\n",
        "y_test = to_categorical(y_test, 11)"
      ],
      "metadata": {
        "id": "m250g_uAk63H"
      },
      "execution_count": 64,
      "outputs": []
    },
    {
      "cell_type": "code",
      "source": [
        "y_train.shape"
      ],
      "metadata": {
        "colab": {
          "base_uri": "https://localhost:8080/"
        },
        "id": "bA52Kezpk9o3",
        "outputId": "83a1679d-946e-4a7f-8961-53971d075711"
      },
      "execution_count": 65,
      "outputs": [
        {
          "output_type": "execute_result",
          "data": {
            "text/plain": [
              "(800, 11)"
            ]
          },
          "metadata": {},
          "execution_count": 65
        }
      ]
    },
    {
      "cell_type": "code",
      "source": [
        "y_test.shape"
      ],
      "metadata": {
        "colab": {
          "base_uri": "https://localhost:8080/"
        },
        "id": "s_vn9IgJk-6v",
        "outputId": "396c629a-f214-441b-c573-b706a0178d2d"
      },
      "execution_count": 66,
      "outputs": [
        {
          "output_type": "execute_result",
          "data": {
            "text/plain": [
              "(200, 11)"
            ]
          },
          "metadata": {},
          "execution_count": 66
        }
      ]
    },
    {
      "cell_type": "code",
      "source": [
        "# Import library\n",
        "from keras.layers.attention.multi_head_attention import activation\n",
        "from keras.models import Sequential, Model\n",
        "from keras.layers import Dense, Dropout, Flatten, Conv2D, MaxPooling2D, normalization, LeakyReLU\n",
        "from keras.optimizers import Adam\n",
        "from keras.losses import categorical_crossentropy"
      ],
      "metadata": {
        "id": "GUuC9JHElALY"
      },
      "execution_count": 68,
      "outputs": []
    },
    {
      "cell_type": "code",
      "source": [
        "model = Sequential()\n",
        "model.add(Conv2D(32, kernel_size=(3, 3), activation='linear', input_shape=(50, 50, 3), padding='same'))\n",
        "model.add(LeakyReLU(alpha=0.1))\n",
        "model.add(MaxPooling2D((2, 2), padding='same'))\n",
        "\n",
        "model.add(Conv2D(64, (3, 3), activation='linear', padding='same'))\n",
        "model.add(LeakyReLU(alpha=0.1))\n",
        "model.add(MaxPooling2D((2, 2), padding='same'))\n",
        "\n",
        "model.add(Conv2D(128, (3, 3), activation='linear', padding='same'))\n",
        "model.add(LeakyReLU(alpha=0.1))\n",
        "model.add(MaxPooling2D((2, 2), padding='same'))\n",
        "\n",
        "model.add(Flatten())\n",
        "model.add(Dense(128, activation='linear'))\n",
        "model.add(LeakyReLU(alpha=0.1))\n",
        "model.add(Dense(11, activation='softmax'))"
      ],
      "metadata": {
        "id": "JAKvpmKtlBg_"
      },
      "execution_count": 69,
      "outputs": []
    },
    {
      "cell_type": "code",
      "source": [
        "model.summary()"
      ],
      "metadata": {
        "colab": {
          "base_uri": "https://localhost:8080/"
        },
        "id": "kYuKw5LwlIqv",
        "outputId": "cf926879-0a80-4902-c71c-e3dee3f728ca"
      },
      "execution_count": 70,
      "outputs": [
        {
          "output_type": "stream",
          "name": "stdout",
          "text": [
            "Model: \"sequential_4\"\n",
            "_________________________________________________________________\n",
            " Layer (type)                Output Shape              Param #   \n",
            "=================================================================\n",
            " conv2d_12 (Conv2D)          (None, 50, 50, 32)        896       \n",
            "                                                                 \n",
            " leaky_re_lu_8 (LeakyReLU)   (None, 50, 50, 32)        0         \n",
            "                                                                 \n",
            " max_pooling2d_12 (MaxPoolin  (None, 25, 25, 32)       0         \n",
            " g2D)                                                            \n",
            "                                                                 \n",
            " conv2d_13 (Conv2D)          (None, 25, 25, 64)        18496     \n",
            "                                                                 \n",
            " leaky_re_lu_9 (LeakyReLU)   (None, 25, 25, 64)        0         \n",
            "                                                                 \n",
            " max_pooling2d_13 (MaxPoolin  (None, 13, 13, 64)       0         \n",
            " g2D)                                                            \n",
            "                                                                 \n",
            " conv2d_14 (Conv2D)          (None, 13, 13, 128)       73856     \n",
            "                                                                 \n",
            " leaky_re_lu_10 (LeakyReLU)  (None, 13, 13, 128)       0         \n",
            "                                                                 \n",
            " max_pooling2d_14 (MaxPoolin  (None, 7, 7, 128)        0         \n",
            " g2D)                                                            \n",
            "                                                                 \n",
            " flatten_4 (Flatten)         (None, 6272)              0         \n",
            "                                                                 \n",
            " dense_8 (Dense)             (None, 128)               802944    \n",
            "                                                                 \n",
            " leaky_re_lu_11 (LeakyReLU)  (None, 128)               0         \n",
            "                                                                 \n",
            " dense_9 (Dense)             (None, 11)                1419      \n",
            "                                                                 \n",
            "=================================================================\n",
            "Total params: 897,611\n",
            "Trainable params: 897,611\n",
            "Non-trainable params: 0\n",
            "_________________________________________________________________\n"
          ]
        }
      ]
    },
    {
      "cell_type": "code",
      "source": [
        "# Compile and Train model\n",
        "model.compile(loss = categorical_crossentropy,\n",
        "              optimizer = Adam(),\n",
        "              metrics = ['accuracy'])\n",
        "train = model.fit(X_train, y_train, batch_size = 60, epochs = 10, verbose = 1)"
      ],
      "metadata": {
        "colab": {
          "base_uri": "https://localhost:8080/"
        },
        "id": "5wRDQzRmlKMP",
        "outputId": "2b3691f3-f7f7-48e2-9a7c-974ebfa5864a"
      },
      "execution_count": 73,
      "outputs": [
        {
          "output_type": "stream",
          "name": "stdout",
          "text": [
            "Epoch 1/10\n",
            "14/14 [==============================] - 5s 321ms/step - loss: 0.4269 - accuracy: 0.8988\n",
            "Epoch 2/10\n",
            "14/14 [==============================] - 6s 443ms/step - loss: 0.1421 - accuracy: 0.9750\n",
            "Epoch 3/10\n",
            "14/14 [==============================] - 5s 334ms/step - loss: 0.0455 - accuracy: 0.9962\n",
            "Epoch 4/10\n",
            "14/14 [==============================] - 4s 314ms/step - loss: 0.0170 - accuracy: 1.0000\n",
            "Epoch 5/10\n",
            "14/14 [==============================] - 7s 476ms/step - loss: 0.0079 - accuracy: 1.0000\n",
            "Epoch 6/10\n",
            "14/14 [==============================] - 4s 316ms/step - loss: 0.0047 - accuracy: 1.0000\n",
            "Epoch 7/10\n",
            "14/14 [==============================] - 4s 316ms/step - loss: 0.0035 - accuracy: 1.0000\n",
            "Epoch 8/10\n",
            "14/14 [==============================] - 7s 477ms/step - loss: 0.0028 - accuracy: 1.0000\n",
            "Epoch 9/10\n",
            "14/14 [==============================] - 4s 318ms/step - loss: 0.0023 - accuracy: 1.0000\n",
            "Epoch 10/10\n",
            "14/14 [==============================] - 4s 315ms/step - loss: 0.0021 - accuracy: 1.0000\n"
          ]
        }
      ]
    },
    {
      "cell_type": "code",
      "source": [
        "# Save model\n",
        "model.save('/content/drive/MyDrive/Colaboratory/AI REPORT/printfinger/Predict_printfinger_Model.h5')"
      ],
      "metadata": {
        "id": "xV1y4wtxlOTf"
      },
      "execution_count": 74,
      "outputs": []
    },
    {
      "cell_type": "code",
      "source": [
        "test = model.evaluate(X_test, y_test, verbose=0)\n",
        "print('Test loss: ', test[0])\n",
        "print('Test accuracy', test[1])\n",
        "accuracy=train.history['accuracy']\n",
        "loss=train.history['loss']\n",
        "epochs=range(len(accuracy))\n",
        "plt.plot(epochs, accuracy, 'bo', label='Training accuracy')\n",
        "plt.plot(epochs, loss, 'b', label='Training loss')\n",
        "plt.legend()\n",
        "plt.show()"
      ],
      "metadata": {
        "colab": {
          "base_uri": "https://localhost:8080/",
          "height": 466
        },
        "id": "AAow5N8Euiq4",
        "outputId": "cbcc7b10-c9fa-43d6-9a04-92aa00f032f7"
      },
      "execution_count": 75,
      "outputs": [
        {
          "output_type": "stream",
          "name": "stdout",
          "text": [
            "Test loss:  5.6389241218566895\n",
            "Test accuracy 0.1850000023841858\n"
          ]
        },
        {
          "output_type": "display_data",
          "data": {
            "text/plain": [
              "<Figure size 640x480 with 1 Axes>"
            ],
            "image/png": "[encoded data removed]"
          },
          "metadata": {}
        }
      ]
    },
    {
      "cell_type": "code",
      "source": [
        "# Use testmodel to evalute trainmodel\n",
        "\n",
        "# Load photo in testmodel\n",
        "img = X_test[20]\n",
        "plt.imshow(img)\n",
        "plt.show()\n",
        "print(y_test[20])"
      ],
      "metadata": {
        "colab": {
          "base_uri": "https://localhost:8080/",
          "height": 450
        },
        "id": "CWdPxjwlulZI",
        "outputId": "1ee796d6-d6f9-4ca3-e64e-71104139d9ec"
      },
      "execution_count": 76,
      "outputs": [
        {
          "output_type": "display_data",
          "data": {
            "text/plain": [
              "<Figure size 640x480 with 1 Axes>"
            ],
            "image/png": "[encoded data removed]"
          },
          "metadata": {}
        },
        {
          "output_type": "stream",
          "name": "stdout",
          "text": [
            "[0. 0. 0. 1. 0. 0. 0. 0. 0. 0. 0.]\n"
          ]
        }
      ]
    },
    {
      "cell_type": "code",
      "source": [
        "X_pred = X_test[20].reshape(1,50,50,3)\n",
        "X_pred=X_pred.astype('float32')/255\n",
        "np.argmax(model.predict(X_pred), axis=-1)"
      ],
      "metadata": {
        "colab": {
          "base_uri": "https://localhost:8080/"
        },
        "id": "CA4mmzdBupDQ",
        "outputId": "dab57f7d-e77e-45b4-9525-1e1560c1a948"
      },
      "execution_count": 78,
      "outputs": [
        {
          "output_type": "stream",
          "name": "stdout",
          "text": [
            "1/1 [==============================] - 0s 323ms/step\n"
          ]
        },
        {
          "output_type": "execute_result",
          "data": {
            "text/plain": [
              "array([1])"
            ]
          },
          "metadata": {},
          "execution_count": 78
        }
      ]
    },
    {
      "cell_type": "code",
      "source": [
        "# #IMPORT A PICTURE FOR MODEL PREDICT\n",
        "url = '/content/Baker (39).jpg'\n",
        "img = plt.imread(url) \n",
        "plt.imshow(img)\n",
        "plt.show()"
      ],
      "metadata": {
        "colab": {
          "base_uri": "https://localhost:8080/",
          "height": 434
        },
        "id": "mJND_M8UuslG",
        "outputId": "2a984285-fc30-4c1c-cc1b-9f35fb9fd49b"
      },
      "execution_count": 79,
      "outputs": [
        {
          "output_type": "display_data",
          "data": {
            "text/plain": [
              "<Figure size 640x480 with 1 Axes>"
            ],
            "image/png": "[encoded data removed]"
          },
          "metadata": {}
        }
      ]
    },
    {
      "cell_type": "code",
      "source": [
        "img = load_img(url, target_size = (50,50,3))\n",
        "plt.imshow(img)"
      ],
      "metadata": {
        "colab": {
          "base_uri": "https://localhost:8080/",
          "height": 450
        },
        "id": "E-TSvrK9u7cI",
        "outputId": "63c037df-65d7-46ba-9a1a-16c0cdc71dc1"
      },
      "execution_count": 80,
      "outputs": [
        {
          "output_type": "execute_result",
          "data": {
            "text/plain": [
              "<matplotlib.image.AxesImage at 0x7f9a76755b50>"
            ]
          },
          "metadata": {},
          "execution_count": 80
        },
        {
          "output_type": "display_data",
          "data": {
            "text/plain": [
              "<Figure size 640x480 with 1 Axes>"
            ],
            "image/png": "[encoded data removed]"
          },
          "metadata": {}
        }
      ]
    },
    {
      "cell_type": "code",
      "source": [
        "img = img_to_array(img)\n",
        "img = img.reshape(1,50,50,3)\n",
        "img = img.astype('float32')\n",
        "img = img/255\n",
        "np.argmax(model.predict(img),axis=-1)"
      ],
      "metadata": {
        "colab": {
          "base_uri": "https://localhost:8080/"
        },
        "id": "NuE-G_Fju-uR",
        "outputId": "9d36c337-3c1c-450a-f0d2-ae8dcd4207bd"
      },
      "execution_count": 81,
      "outputs": [
        {
          "output_type": "stream",
          "name": "stdout",
          "text": [
            "1/1 [==============================] - 0s 241ms/step\n"
          ]
        },
        {
          "output_type": "execute_result",
          "data": {
            "text/plain": [
              "array([5])"
            ]
          },
          "metadata": {},
          "execution_count": 81
        }
      ]
    }
  ]
}